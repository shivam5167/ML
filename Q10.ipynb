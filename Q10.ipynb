{
 "cells": [
  {
   "cell_type": "code",
   "execution_count": 1,
   "id": "a6d955d0",
   "metadata": {},
   "outputs": [],
   "source": [
    "#list of numbers\n",
    "numbers = [2, 0, -3, 8, 5, 0, -10]"
   ]
  },
  {
   "cell_type": "code",
   "execution_count": 2,
   "id": "715b3c50",
   "metadata": {},
   "outputs": [
    {
     "name": "stdout",
     "output_type": "stream",
     "text": [
      "Using for loop:\n",
      "2 is even\n",
      "0 is zero\n",
      "-3 is odd\n",
      "8 is even\n",
      "5 is odd\n",
      "0 is zero\n",
      "-10 is even\n"
     ]
    }
   ],
   "source": [
    "# Using a for loop to iterate over each number in the list\n",
    "print(\"Using for loop:\")\n",
    "for num in numbers:\n",
    "    if num == 0:\n",
    "        print(f\"{num} is zero\")\n",
    "    elif num % 2 == 0:\n",
    "        print(f\"{num} is even\")\n",
    "    else:\n",
    "        print(f\"{num} is odd\")"
   ]
  },
  {
   "cell_type": "code",
   "execution_count": 3,
   "id": "cdfcf518",
   "metadata": {},
   "outputs": [
    {
     "name": "stdout",
     "output_type": "stream",
     "text": [
      "\n",
      "Using while loop:\n",
      "2 is even\n",
      "0 is zero\n",
      "-3 is odd\n",
      "8 is even\n",
      "5 is odd\n",
      "0 is zero\n",
      "-10 is even\n"
     ]
    }
   ],
   "source": [
    "# Using a while loop to iterate over each number in the list\n",
    "print(\"\\nUsing while loop:\")\n",
    "i = 0\n",
    "while i < len(numbers):\n",
    "    num = numbers[i]\n",
    "    if num == 0:\n",
    "        print(f\"{num} is zero\")\n",
    "    elif num % 2 == 0:\n",
    "        print(f\"{num} is even\")\n",
    "    else:\n",
    "        print(f\"{num} is odd\")\n",
    "    i += 1"
   ]
  }
 ],
 "metadata": {
  "kernelspec": {
   "display_name": "Python 3 (ipykernel)",
   "language": "python",
   "name": "python3"
  },
  "language_info": {
   "codemirror_mode": {
    "name": "ipython",
    "version": 3
   },
   "file_extension": ".py",
   "mimetype": "text/x-python",
   "name": "python",
   "nbconvert_exporter": "python",
   "pygments_lexer": "ipython3",
   "version": "3.9.13"
  }
 },
 "nbformat": 4,
 "nbformat_minor": 5
}
