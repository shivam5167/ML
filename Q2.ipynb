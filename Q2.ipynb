{
 "cells": [
  {
   "cell_type": "code",
   "execution_count": 1,
   "id": "60b5dda6",
   "metadata": {},
   "outputs": [
    {
     "name": "stdout",
     "output_type": "stream",
     "text": [
      "Enter the first boolean value (True or False): true\n",
      "Enter the second boolean value (True or False): false\n",
      "Logical OR: True\n",
      "Logical AND: False\n",
      "Checking for Equality: False\n",
      "Logical NOT (for first input): False\n",
      "XOR (Exclusive OR): True\n"
     ]
    }
   ],
   "source": [
    "# Taking input from the user\n",
    "a = input(\"Enter the first boolean value (True or False): \").lower() == 'true'\n",
    "b = input(\"Enter the second boolean value (True or False): \").lower() == 'true'\n",
    "\n",
    "# Performing logical operations\n",
    "result_or = a or b\n",
    "result_and = a and b\n",
    "result_eq = (a == b)\n",
    "result_not = not a\n",
    "result_xor = a^b\n",
    "\n",
    "# Printing results\n",
    "print(\"Logical OR:\", result_or)\n",
    "print(\"Logical AND:\", result_and)\n",
    "print(\"Checking for Equality:\", result_eq)\n",
    "print(\"Logical NOT (for first input):\", result_not)\n",
    "print(\"XOR (Exclusive OR):\", result_xor)"
   ]
  },
  {
   "cell_type": "code",
   "execution_count": null,
   "id": "a9a8125b",
   "metadata": {},
   "outputs": [],
   "source": []
  }
 ],
 "metadata": {
  "kernelspec": {
   "display_name": "Python 3 (ipykernel)",
   "language": "python",
   "name": "python3"
  },
  "language_info": {
   "codemirror_mode": {
    "name": "ipython",
    "version": 3
   },
   "file_extension": ".py",
   "mimetype": "text/x-python",
   "name": "python",
   "nbconvert_exporter": "python",
   "pygments_lexer": "ipython3",
   "version": "3.9.13"
  }
 },
 "nbformat": 4,
 "nbformat_minor": 5
}
