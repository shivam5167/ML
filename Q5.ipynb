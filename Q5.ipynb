{
 "cells": [
  {
   "cell_type": "code",
   "execution_count": 1,
   "id": "acdc35af",
   "metadata": {},
   "outputs": [],
   "source": [
    "import numpy as np\n",
    "import sys"
   ]
  },
  {
   "cell_type": "code",
   "execution_count": 2,
   "id": "2e53c23d",
   "metadata": {},
   "outputs": [
    {
     "name": "stdout",
     "output_type": "stream",
     "text": [
      "Size of the matrix: 9\n"
     ]
    }
   ],
   "source": [
    "# Compute the size of a matrix\n",
    "matrix = np.random.randint(10, size=(3,3))\n",
    "matrix_size = matrix.size\n",
    "print(\"Size of the matrix:\", matrix_size)"
   ]
  },
  {
   "cell_type": "code",
   "execution_count": 3,
   "id": "4a916093",
   "metadata": {},
   "outputs": [
    {
     "name": "stdout",
     "output_type": "stream",
     "text": [
      "Length of the first row: 3\n",
      "Length of the first column: 3\n"
     ]
    }
   ],
   "source": [
    "# Size/length of a particular row/column\n",
    "row_length = len(matrix[0])  # Length of the first row\n",
    "column_length = len(matrix[:, 0])  # Length of the first column\n",
    "print(\"Length of the first row:\", row_length)\n",
    "print(\"Length of the first column:\", column_length)"
   ]
  },
  {
   "cell_type": "code",
   "execution_count": 4,
   "id": "e28232aa",
   "metadata": {},
   "outputs": [
    {
     "name": "stdout",
     "output_type": "stream",
     "text": [
      "Loaded data:\n",
      " [[1. 2. 3.]\n",
      " [4. 5. 6.]\n",
      " [7. 8. 9.]]\n"
     ]
    }
   ],
   "source": [
    "# Load data from a text file\n",
    "data = np.loadtxt(\"data.txt\")\n",
    "print(\"Loaded data:\\n\", data)"
   ]
  },
  {
   "cell_type": "code",
   "execution_count": 5,
   "id": "9076b5a4",
   "metadata": {},
   "outputs": [],
   "source": [
    "# Store matrix data to a text file\n",
    "np.savetxt(\"output.txt\", matrix, fmt=\"%d\")"
   ]
  },
  {
   "cell_type": "code",
   "execution_count": 6,
   "id": "56c42c21",
   "metadata": {},
   "outputs": [
    {
     "name": "stdout",
     "output_type": "stream",
     "text": [
      "In 120\n",
      "Out 232\n",
      "get_ipython 64\n",
      "exit 48\n",
      "quit 48\n",
      "np 72\n",
      "sys 72\n",
      "matrix 156\n",
      "matrix_size 28\n",
      "row_length 28\n",
      "column_length 28\n",
      "data 120\n"
     ]
    }
   ],
   "source": [
    "# Finding out variables and their features in the current scope\n",
    "variables = list(globals().keys())\n",
    "for var in variables:\n",
    "    if not var.startswith(\"_\"):\n",
    "        print(var, sys.getsizeof(eval(var)))"
   ]
  }
 ],
 "metadata": {
  "kernelspec": {
   "display_name": "Python 3 (ipykernel)",
   "language": "python",
   "name": "python3"
  },
  "language_info": {
   "codemirror_mode": {
    "name": "ipython",
    "version": 3
   },
   "file_extension": ".py",
   "mimetype": "text/x-python",
   "name": "python",
   "nbconvert_exporter": "python",
   "pygments_lexer": "ipython3",
   "version": "3.9.13"
  }
 },
 "nbformat": 4,
 "nbformat_minor": 5
}
