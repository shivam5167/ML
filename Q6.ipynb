{
 "cells": [
  {
   "cell_type": "code",
   "execution_count": 2,
   "id": "2b4959b5",
   "metadata": {},
   "outputs": [
    {
     "name": "stdout",
     "output_type": "stream",
     "text": [
      "Enter elements for Matrix 1 (3x3):\n",
      "1\n",
      "1\n",
      "1\n",
      "1\n",
      "1\n",
      "1\n",
      "1\n",
      "1\n",
      "1\n",
      "\n",
      "Enter elements for Matrix 2 (3x3):\n",
      "1\n",
      "1\n",
      "1\n",
      "1\n",
      "1\n",
      "1\n",
      "1\n",
      "1\n",
      "1\n",
      "\n",
      "Matrix Addition:\n",
      "[[2 2 2]\n",
      " [2 2 2]\n",
      " [2 2 2]]\n",
      "\n",
      "Matrix Subtraction:\n",
      "[[0 0 0]\n",
      " [0 0 0]\n",
      " [0 0 0]]\n",
      "\n",
      "Element-wise Matrix Multiplication:\n",
      "[[1 1 1]\n",
      " [1 1 1]\n",
      " [1 1 1]]\n",
      "\n",
      "Matrix Multiplication:\n",
      "[[3 3 3]\n",
      " [3 3 3]\n",
      " [3 3 3]]\n"
     ]
    }
   ],
   "source": [
    "import numpy as np\n",
    "# Take input from user for matrix 1\n",
    "print(\"Enter elements for Matrix 1 (3x3):\")\n",
    "matrix1 = np.zeros((3, 3), dtype=int)\n",
    "for i in range(3):\n",
    "    for j in range(3):\n",
    "        matrix1[i, j] = int(input())\n",
    "\n",
    "# Take input from user for matrix 2\n",
    "print(\"\\nEnter elements for Matrix 2 (3x3):\")\n",
    "matrix2 = np.zeros((3, 3), dtype=int)\n",
    "for i in range(3):\n",
    "    for j in range(3):\n",
    "        matrix2[i, j] = int(input())\n",
    "\n",
    "# Perform operations on matrices\n",
    "result_addition = matrix1 + matrix2\n",
    "result_subtraction = matrix1 - matrix2\n",
    "result_multiplication_elementwise = matrix1 * matrix2\n",
    "result_multiplication_matrix = np.dot(matrix1, matrix2)\n",
    "\n",
    "# Display results\n",
    "print(\"\\nMatrix Addition:\")\n",
    "print(result_addition)\n",
    "\n",
    "print(\"\\nMatrix Subtraction:\")\n",
    "print(result_subtraction)\n",
    "\n",
    "print(\"\\nElement-wise Matrix Multiplication:\")\n",
    "print(result_multiplication_elementwise)\n",
    "\n",
    "print(\"\\nMatrix Multiplication:\")\n",
    "print(result_multiplication_matrix)"
   ]
  },
  {
   "cell_type": "code",
   "execution_count": null,
   "id": "023b9462",
   "metadata": {},
   "outputs": [],
   "source": []
  }
 ],
 "metadata": {
  "kernelspec": {
   "display_name": "Python 3 (ipykernel)",
   "language": "python",
   "name": "python3"
  },
  "language_info": {
   "codemirror_mode": {
    "name": "ipython",
    "version": 3
   },
   "file_extension": ".py",
   "mimetype": "text/x-python",
   "name": "python",
   "nbconvert_exporter": "python",
   "pygments_lexer": "ipython3",
   "version": "3.9.13"
  }
 },
 "nbformat": 4,
 "nbformat_minor": 5
}
