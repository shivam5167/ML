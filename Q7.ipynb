{
 "cells": [
  {
   "cell_type": "code",
   "execution_count": 1,
   "id": "4885b205",
   "metadata": {},
   "outputs": [],
   "source": [
    "import numpy as np\n",
    "# matrix\n",
    "matrix = np.array([[-1, 2, 3],\n",
    "                   [4, -5, 6],\n",
    "                   [7, 8, 9]])"
   ]
  },
  {
   "cell_type": "code",
   "execution_count": 2,
   "id": "43865b31",
   "metadata": {},
   "outputs": [
    {
     "name": "stdout",
     "output_type": "stream",
     "text": [
      "[[1 2 3]\n",
      " [4 5 6]\n",
      " [7 8 9]]\n"
     ]
    }
   ],
   "source": [
    "#Converting matrix data to absolute values:\n",
    "abs_matrix = np.abs(matrix)\n",
    "print(abs_matrix)"
   ]
  },
  {
   "cell_type": "code",
   "execution_count": 3,
   "id": "288c97d2",
   "metadata": {},
   "outputs": [
    {
     "name": "stdout",
     "output_type": "stream",
     "text": [
      "[[ 1 -2 -3]\n",
      " [-4  5 -6]\n",
      " [-7 -8 -9]]\n"
     ]
    }
   ],
   "source": [
    "#Taking the negative of matrix values:\n",
    "neg_matrix = -matrix\n",
    "print(neg_matrix)"
   ]
  },
  {
   "cell_type": "code",
   "execution_count": 4,
   "id": "775c0ffa",
   "metadata": {},
   "outputs": [
    {
     "name": "stdout",
     "output_type": "stream",
     "text": [
      "Matrix_with_row_added\n",
      " [[-1  2  3]\n",
      " [ 4 -5  6]\n",
      " [ 7  8  9]\n",
      " [ 1  2  3]]\n",
      "Matrix_with_row_removed\n",
      " [[ 4 -5  6]\n",
      " [ 7  8  9]]\n",
      "Matrix_with_column_added\n",
      " [[-1  2  3  1]\n",
      " [ 4 -5  6  2]\n",
      " [ 7  8  9  3]]\n",
      "Matrix_with_column_removed\n",
      " [[ 2  3]\n",
      " [-5  6]\n",
      " [ 8  9]]\n"
     ]
    }
   ],
   "source": [
    "#Adding/removing rows/columns from a matrix:\n",
    "# Adding a row\n",
    "new_row = np.array([1, 2, 3])\n",
    "matrix_with_row_added = np.vstack((matrix, new_row))\n",
    "\n",
    "# Removing a row\n",
    "matrix_with_row_removed = np.delete(matrix, 0, axis=0)  # Removes the first row\n",
    "\n",
    "# Adding a column\n",
    "new_column = np.array([1, 2, 3]).reshape(-1, 1)\n",
    "matrix_with_column_added = np.hstack((matrix, new_column))\n",
    "\n",
    "# Removing a column\n",
    "matrix_with_column_removed = np.delete(matrix, 0, axis=1)  # Removes the first column\n",
    "\n",
    "print(\"Matrix_with_row_added\\n\",matrix_with_row_added)\n",
    "print(\"Matrix_with_row_removed\\n\",matrix_with_row_removed)\n",
    "print(\"Matrix_with_column_added\\n\",matrix_with_column_added)\n",
    "print(\"Matrix_with_column_removed\\n\",matrix_with_column_removed)"
   ]
  },
  {
   "cell_type": "code",
   "execution_count": 5,
   "id": "21172c36",
   "metadata": {},
   "outputs": [
    {
     "name": "stdout",
     "output_type": "stream",
     "text": [
      "Maximum value in the entire matrix : \n",
      "9\n",
      "Minimum value in the entire matrix : \n",
      "-5\n",
      "Maximum value in each column : \n",
      "[7 8 9]\n",
      "Minimum value in each row : \n",
      "[-1 -5  7]\n"
     ]
    }
   ],
   "source": [
    "#Finding the maximum or minimum values in a matrix or in a row/column:\n",
    "\n",
    "print(\"Maximum value in the entire matrix : \")\n",
    "print(np.max(matrix))\n",
    "\n",
    "print(\"Minimum value in the entire matrix : \")\n",
    "print(np.min(matrix))\n",
    "\n",
    "print(\"Maximum value in each column : \")\n",
    "print(np.max(matrix, axis=0))\n",
    "\n",
    "print(\"Minimum value in each row : \")\n",
    "print(np.min(matrix, axis=1))"
   ]
  },
  {
   "cell_type": "code",
   "execution_count": 6,
   "id": "8c471861",
   "metadata": {},
   "outputs": [
    {
     "name": "stdout",
     "output_type": "stream",
     "text": [
      "Sum of all elements in the matrix : \n",
      "33\n",
      "Sum of elements in each row : \n",
      "[ 4  5 24]\n",
      "Sum of elements in each column : \n",
      "[10  5 18]\n"
     ]
    }
   ],
   "source": [
    "#Finding the sum of some/all elements in a matrix:\n",
    "\n",
    "print(\"Sum of all elements in the matrix : \")\n",
    "print(np.sum(matrix))\n",
    "\n",
    "print(\"Sum of elements in each row : \")\n",
    "print(np.sum(matrix, axis=1))\n",
    "\n",
    "print(\"Sum of elements in each column : \")\n",
    "print(np.sum(matrix, axis=0))"
   ]
  }
 ],
 "metadata": {
  "kernelspec": {
   "display_name": "Python 3 (ipykernel)",
   "language": "python",
   "name": "python3"
  },
  "language_info": {
   "codemirror_mode": {
    "name": "ipython",
    "version": 3
   },
   "file_extension": ".py",
   "mimetype": "text/x-python",
   "name": "python",
   "nbconvert_exporter": "python",
   "pygments_lexer": "ipython3",
   "version": "3.9.13"
  }
 },
 "nbformat": 4,
 "nbformat_minor": 5
}
