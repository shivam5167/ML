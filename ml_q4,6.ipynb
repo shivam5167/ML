{
 "cells": [
  {
   "cell_type": "code",
   "execution_count": 2,
   "metadata": {},
   "outputs": [],
   "source": [
    "import numpy as np\n",
    "import time"
   ]
  },
  {
   "cell_type": "code",
   "execution_count": 3,
   "metadata": {},
   "outputs": [
    {
     "data": {
      "text/plain": [
       "array([-0.03326954, -0.66249811, -0.22100981,  0.80378004, -0.52435697,\n",
       "       -0.91028134, -0.08018507,  0.81328292])"
      ]
     },
     "execution_count": 3,
     "metadata": {},
     "output_type": "execute_result"
    }
   ],
   "source": [
    "arr1=np.random.randn(8)\n",
    "arr1"
   ]
  },
  {
   "cell_type": "code",
   "execution_count": 15,
   "metadata": {},
   "outputs": [
    {
     "data": {
      "text/plain": [
       "array([[0, 2, 0],\n",
       "       [4, 8, 6],\n",
       "       [4, 6, 1]])"
      ]
     },
     "execution_count": 15,
     "metadata": {},
     "output_type": "execute_result"
    }
   ],
   "source": [
    "arr2=np.random.randint(10,size=(3,3))\n",
    "arr2"
   ]
  },
  {
   "cell_type": "code",
   "execution_count": 19,
   "metadata": {},
   "outputs": [
    {
     "data": {
      "text/plain": [
       "array([[0., 0., 0.],\n",
       "       [0., 0., 0.],\n",
       "       [0., 0., 0.]])"
      ]
     },
     "execution_count": 19,
     "metadata": {},
     "output_type": "execute_result"
    }
   ],
   "source": [
    "arr3=np.zeros((3,3))\n",
    "arr3"
   ]
  },
  {
   "cell_type": "code",
   "execution_count": 22,
   "metadata": {},
   "outputs": [
    {
     "data": {
      "text/plain": [
       "array([[1., 0., 0.],\n",
       "       [0., 1., 0.],\n",
       "       [0., 0., 1.]])"
      ]
     },
     "execution_count": 22,
     "metadata": {},
     "output_type": "execute_result"
    }
   ],
   "source": [
    "arr4=np.eye(3)\n",
    "arr4"
   ]
  },
  {
   "cell_type": "code",
   "execution_count": 28,
   "metadata": {},
   "outputs": [
    {
     "data": {
      "text/plain": [
       "array([1., 1., 1., 1.])"
      ]
     },
     "execution_count": 28,
     "metadata": {},
     "output_type": "execute_result"
    }
   ],
   "source": [
    "arr5=np.ones(4)\n",
    "arr5"
   ]
  },
  {
   "cell_type": "code",
   "execution_count": 77,
   "metadata": {},
   "outputs": [
    {
     "name": "stdout",
     "output_type": "stream",
     "text": [
      "enter size of matrix10\n",
      "[[8 0 3 1 4 6 7 9 8 5]\n",
      " [9 4 6 8 3 3 2 9 7 4]\n",
      " [5 3 7 0 2 8 7 7 4 3]\n",
      " [0 7 0 4 8 3 0 9 4 2]\n",
      " [2 4 5 8 0 5 4 6 8 3]\n",
      " [7 5 1 4 9 5 4 4 1 8]\n",
      " [1 1 7 2 1 3 7 1 6 6]\n",
      " [2 3 5 2 2 9 6 2 8 4]\n",
      " [1 0 4 0 3 1 3 1 8 4]\n",
      " [6 3 8 3 8 1 1 3 0 4]] \n",
      "\n",
      " [[8 5 0 8 8 3 3 6 0 2]\n",
      " [9 1 9 8 3 5 9 0 4 9]\n",
      " [3 1 1 5 1 3 7 4 2 1]\n",
      " [6 2 8 5 4 3 0 5 7 2]\n",
      " [4 9 0 9 0 5 7 6 0 3]\n",
      " [5 6 6 9 7 3 2 4 4 3]\n",
      " [2 1 5 6 0 5 0 2 6 6]\n",
      " [7 9 4 5 4 8 9 5 9 2]\n",
      " [5 3 5 2 4 5 3 6 0 4]\n",
      " [2 1 9 6 7 7 6 9 8 0]]\n"
     ]
    }
   ],
   "source": [
    "si=int(input('enter size of matrix'))\n",
    "x=np.random.randint(10,size=(si,si))\n",
    "y=np.random.randint(10,size=(si,si))\n",
    "print(x,'\\n\\n',y)"
   ]
  },
  {
   "cell_type": "markdown",
   "metadata": {},
   "source": [
    "\n",
    "    \n",
    "    \n",
    "\n"
   ]
  },
  {
   "cell_type": "code",
   "execution_count": 80,
   "metadata": {},
   "outputs": [
    {
     "name": "stdout",
     "output_type": "stream",
     "text": [
      "MATRIX ADDITION\n",
      "MATRIX SUBTRACTION\n",
      "MATRIX MULTIPLICATION\n",
      "\n",
      "ENTER YOUR CHOICE3\n",
      "[[252 234 203 307 216 256 220 265 200 143]\n",
      " [311 224 241 323 235 258 258 275 221 152]\n",
      " [225 186 192 292 177 217 214 202 187 146]\n",
      " [221 200 187 240 124 202 230 167 165 138]\n",
      " [236 150 246 246 177 209 183 205 204 144]\n",
      " [246 211 221 341 199 234 233 246 194 146]\n",
      " [132  84 173 192 117 164 137 171 143 102]\n",
      " [197 146 216 260 169 193 166 196 158 145]\n",
      " [ 98  82 105 127  83 124 111 139  71  70]\n",
      " [185 157 118 253 124 166 210 188 118  92]]\n",
      "function 0.0008757114410400391 \n",
      "\n",
      "252.0\n",
      "234.0\n",
      "203.0\n",
      "307.0\n",
      "216.0\n",
      "256.0\n",
      "220.0\n",
      "265.0\n",
      "200.0\n",
      "143.0\n",
      "311.0\n",
      "224.0\n",
      "241.0\n",
      "323.0\n",
      "235.0\n",
      "258.0\n",
      "258.0\n",
      "275.0\n",
      "221.0\n",
      "152.0\n",
      "225.0\n",
      "186.0\n",
      "192.0\n",
      "292.0\n",
      "177.0\n",
      "217.0\n",
      "214.0\n",
      "202.0\n",
      "187.0\n",
      "146.0\n",
      "221.0\n",
      "200.0\n",
      "187.0\n",
      "240.0\n",
      "124.0\n",
      "202.0\n",
      "230.0\n",
      "167.0\n",
      "165.0\n",
      "138.0\n",
      "236.0\n",
      "150.0\n",
      "246.0\n",
      "246.0\n",
      "177.0\n",
      "209.0\n",
      "183.0\n",
      "205.0\n",
      "204.0\n",
      "144.0\n",
      "246.0\n",
      "211.0\n",
      "221.0\n",
      "341.0\n",
      "199.0\n",
      "234.0\n",
      "233.0\n",
      "246.0\n",
      "194.0\n",
      "146.0\n",
      "132.0\n",
      "84.0\n",
      "173.0\n",
      "192.0\n",
      "117.0\n",
      "164.0\n",
      "137.0\n",
      "171.0\n",
      "143.0\n",
      "102.0\n",
      "197.0\n",
      "146.0\n",
      "216.0\n",
      "260.0\n",
      "169.0\n",
      "193.0\n",
      "166.0\n",
      "196.0\n",
      "158.0\n",
      "145.0\n",
      "98.0\n",
      "82.0\n",
      "105.0\n",
      "127.0\n",
      "83.0\n",
      "124.0\n",
      "111.0\n",
      "139.0\n",
      "71.0\n",
      "70.0\n",
      "185.0\n",
      "157.0\n",
      "118.0\n",
      "253.0\n",
      "124.0\n",
      "166.0\n",
      "210.0\n",
      "188.0\n",
      "118.0\n",
      "92.0\n",
      "for loop 0.028849363327026367\n",
      "want to continue?(Y/N)n\n"
     ]
    }
   ],
   "source": [
    "def mul(m,n):\n",
    "    r1=x.shape[0]\n",
    "    c1=x.shape[1]\n",
    "    r2=y.shape[0]\n",
    "    c2=y.shape[1]\n",
    "    mul=np.zeros(c1*r2).reshape(c1,r2)\n",
    "    start2=time.time()\n",
    "    for i in range(r1):\n",
    "        for j in range (c2):\n",
    "            mul[i][j]=0\n",
    "            for k in range(c1):\n",
    "                mul[i][j]+=x[i][k]*y[k][j]\n",
    "            print(mul[i][j])\n",
    "    end2=time.time()\n",
    "    print(\"for loop\",end2-start2)\n",
    "\n",
    "print(\"MATRIX ADDITION\\nMATRIX SUBTRACTION\\nMATRIX MULTIPLICATION\\n\")\n",
    "ans='Y'\n",
    "while(ans=='Y'):\n",
    "    choice=int(input('ENTER YOUR CHOICE'))\n",
    "    if(choice==1 and x.shape[0]==y.shape[0] and x.shape[1]==y.shape[1]):\n",
    "        print(x+y)\n",
    "    if(choice==2 and x.shape[0]==y.shape[0] and x.shape[1]==y.shape[1]):\n",
    "        print(x-y)\n",
    "    if(choice==3 and x.shape[0]==y.shape[1] and x.shape[1]==y.shape[0]):\n",
    "        start1=time.time()\n",
    "        print(np.dot(x,y))\n",
    "        end1=time.time()\n",
    "        print(\"function\",end1-start1,\"\\n\")\n",
    "        mul(x,y)\n",
    "        ans=(input(\"want to continue?(Y/N)\"));\n"
   ]
  },
  {
   "cell_type": "code",
   "execution_count": 49,
   "metadata": {},
   "outputs": [
    {
     "name": "stdout",
     "output_type": "stream",
     "text": [
      "1:ABSOLUTE VALUES\n",
      "2:NEGATIVE MATRIX\n",
      "\n",
      "\n",
      "ENTER YOUR CHOICE6\n",
      "NOT A VALID CHOICE\n",
      "want to continue?(Y/N)n\n"
     ]
    }
   ],
   "source": [
    "print(\"1:ABSOLUTE VALUES\\n2:NEGATIVE MATRIX\\n\\n\")\n",
    "ans='Y'\n",
    "while(ans=='Y'):\n",
    "    choice=int(input('ENTER YOUR CHOICE'))\n",
    "    if(choice==1):\n",
    "        print(np.abs(x))\n",
    "    if(choice==2):\n",
    "        print(-x)\n",
    "#     if(choice==3):\n",
    "#         print(np.dot(x,y))\n",
    "    else:\n",
    "        print()\n",
    "    ans=(input(\"want to continue?(Y/N)\"));"
   ]
  },
  {
   "cell_type": "code",
   "execution_count": 34,
   "metadata": {},
   "outputs": [
    {
     "name": "stdout",
     "output_type": "stream",
     "text": [
      "Help on function dot in module numpy:\n",
      "\n",
      "dot(...)\n",
      "    dot(a, b, out=None)\n",
      "    \n",
      "    Dot product of two arrays. Specifically,\n",
      "    \n",
      "    - If both `a` and `b` are 1-D arrays, it is inner product of vectors\n",
      "      (without complex conjugation).\n",
      "    \n",
      "    - If both `a` and `b` are 2-D arrays, it is matrix multiplication,\n",
      "      but using :func:`matmul` or ``a @ b`` is preferred.\n",
      "    \n",
      "    - If either `a` or `b` is 0-D (scalar), it is equivalent to :func:`multiply`\n",
      "      and using ``numpy.multiply(a, b)`` or ``a * b`` is preferred.\n",
      "    \n",
      "    - If `a` is an N-D array and `b` is a 1-D array, it is a sum product over\n",
      "      the last axis of `a` and `b`.\n",
      "    \n",
      "    - If `a` is an N-D array and `b` is an M-D array (where ``M>=2``), it is a\n",
      "      sum product over the last axis of `a` and the second-to-last axis of `b`::\n",
      "    \n",
      "        dot(a, b)[i,j,k,m] = sum(a[i,j,:] * b[k,:,m])\n",
      "    \n",
      "    Parameters\n",
      "    ----------\n",
      "    a : array_like\n",
      "        First argument.\n",
      "    b : array_like\n",
      "        Second argument.\n",
      "    out : ndarray, optional\n",
      "        Output argument. This must have the exact kind that would be returned\n",
      "        if it was not used. In particular, it must have the right type, must be\n",
      "        C-contiguous, and its dtype must be the dtype that would be returned\n",
      "        for `dot(a,b)`. This is a performance feature. Therefore, if these\n",
      "        conditions are not met, an exception is raised, instead of attempting\n",
      "        to be flexible.\n",
      "    \n",
      "    Returns\n",
      "    -------\n",
      "    output : ndarray\n",
      "        Returns the dot product of `a` and `b`.  If `a` and `b` are both\n",
      "        scalars or both 1-D arrays then a scalar is returned; otherwise\n",
      "        an array is returned.\n",
      "        If `out` is given, then it is returned.\n",
      "    \n",
      "    Raises\n",
      "    ------\n",
      "    ValueError\n",
      "        If the last dimension of `a` is not the same size as\n",
      "        the second-to-last dimension of `b`.\n",
      "    \n",
      "    See Also\n",
      "    --------\n",
      "    vdot : Complex-conjugating dot product.\n",
      "    tensordot : Sum products over arbitrary axes.\n",
      "    einsum : Einstein summation convention.\n",
      "    matmul : '@' operator as method with out parameter.\n",
      "    \n",
      "    Examples\n",
      "    --------\n",
      "    >>> np.dot(3, 4)\n",
      "    12\n",
      "    \n",
      "    Neither argument is complex-conjugated:\n",
      "    \n",
      "    >>> np.dot([2j, 3j], [2j, 3j])\n",
      "    (-13+0j)\n",
      "    \n",
      "    For 2-D arrays it is the matrix product:\n",
      "    \n",
      "    >>> a = [[1, 0], [0, 1]]\n",
      "    >>> b = [[4, 1], [2, 2]]\n",
      "    >>> np.dot(a, b)\n",
      "    array([[4, 1],\n",
      "           [2, 2]])\n",
      "    \n",
      "    >>> a = np.arange(3*4*5*6).reshape((3,4,5,6))\n",
      "    >>> b = np.arange(3*4*5*6)[::-1].reshape((5,4,6,3))\n",
      "    >>> np.dot(a, b)[2,3,2,1,2,2]\n",
      "    499128\n",
      "    >>> sum(a[2,3,2,:] * b[1,2,:,2])\n",
      "    499128\n",
      "\n"
     ]
    }
   ],
   "source": [
    "help(np.dot)"
   ]
  }
 ],
 "metadata": {
  "kernelspec": {
   "display_name": "Python 3 (ipykernel)",
   "language": "python",
   "name": "python3"
  },
  "language_info": {
   "codemirror_mode": {
    "name": "ipython",
    "version": 3
   },
   "file_extension": ".py",
   "mimetype": "text/x-python",
   "name": "python",
   "nbconvert_exporter": "python",
   "pygments_lexer": "ipython3",
   "version": "3.9.13"
  },
  "vscode": {
   "interpreter": {
    "hash": "916dbcbb3f70747c44a77c7bcd40155683ae19c65e1c03b4aa3499c5328201f1"
   }
  }
 },
 "nbformat": 4,
 "nbformat_minor": 2
}
